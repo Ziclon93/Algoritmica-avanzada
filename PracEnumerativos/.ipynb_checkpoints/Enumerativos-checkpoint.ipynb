{
 "cells": [
  {
   "cell_type": "markdown",
   "metadata": {},
   "source": [
    "<div style=\"padding:30px; color: white; background-color: #0071CD\">\n",
    "<center>\n",
    "<img src=\"img/logoUB.jpeg\"></img>\n",
    "<center>\n",
    "<p>\n",
    "<h1>Algorísmica Avançada</h1>\n",
    "<h2>Práctica 2 - Enumerativos </h2>\n",
    "</center>\n",
    "</p>\n",
    "</div>"
   ]
  },
  {
   "cell_type": "markdown",
   "metadata": {},
   "source": [
    "<div class=\"alert alert-info\">\n",
    "<center>\n",
    "  <h1>Introducción</h1>\n",
    "</center>"
   ]
  },
  {
   "cell_type": "markdown",
   "metadata": {},
   "source": [
    "En esta práctica implementaremos un algoritmo de ramificación y poda para solucionar el problema de la mochila:\n",
    "\n",
    "(from Wikipedia): En algoritmia, el problema de la mochila, comúnmente abreviado por KP (del inglés Knapsack problem) es un problema de optimización combinatoria, es decir, que busca la mejor solución entre un conjunto finito de posibles soluciones a un problema. Modela una situación análoga al llenar una mochila, incapaz de soportar más de un peso determinado, con todo o parte de un conjunto de objetos, cada uno con un peso y valor específicos. Los objetos colocados en la mochila deben maximizar el valor total sin exceder el peso máximo.\n",
    "\n",
    "Supongamos que tenemos n distintos tipos de ítems, que van del 1 al n. De cada tipo de ítem se tienen q ítems disponibles (que puede ser diferente para cada ítem).\n",
    "\n",
    "Cada tipo de ítem tiene un beneficio asociado v y un peso (o volumen) w. Se asume que el beneficio y el peso no son negativos. \n",
    "\n",
    "Por otro lado se tiene una mochila, donde se pueden introducir los ítems, que soporta un peso máximo (o volumen máximo) W.\n",
    "\n",
    "El problema consiste en meter en la mochila ítems de tal forma que se maximice el valor de los ítems que contiene y siempre que no se supere el peso (o volumen) máximo que puede soportar la misma. La solución al problema vendrá dado por la secuencia de variables x1, x2, ..., xn donde el valor de xi indica cuantas copias se meterán en la mochila del tipo de ítem i."
   ]
  },
  {
   "cell_type": "markdown",
   "metadata": {},
   "source": [
    "<div class=\"alert alert-info\">\n",
    "<center>\n",
    "  <h1>Contenido</h1>\n",
    "  </center><p>\n",
    "\n"
   ]
  },
  {
   "cell_type": "markdown",
   "metadata": {},
   "source": [
    "\n",
    "<div class=\"alert alert-success\" style=\"width:90%; margin:0 auto;\">\n",
    "  <h2><p>Ramificación y poda: Problema de la mochila</p></h2>\n",
    "  \n",
    "  <div class=\"row\">\n",
    "  <div>\n",
    "  <p style=\"text-align: justify; padding-right: 30px\">\n",
    "  Implementa mediante ramificación y poda una solución al problema de la mochila con tal de encontrar el listado ordenado de items a introducir en la mochila de tal forma que el beneficio (en términos de valor) acumulado en la mochila sea máximo.\n",
    "  </p>\n",
    "  </div>\n"
   ]
  },
  {
   "cell_type": "markdown",
   "metadata": {},
   "source": [
    "<div class=\"alert alert-danger\" style=\"width:80%; margin:0 auto; padding\">\n",
    "<center><p><h3> Código </h3></p> </center> \n",
    "\n",
    "<p>\n",
    "<h3>INPUT</h3>\n",
    "<ul>\n",
    "<li>V1: vector del peso asociado a cada ítem (cada posición corresponde a cada uno de los n ítems).</li>\n",
    "<li>V2: vector del valor asociado a cada ítem (cada posición corresponde a cada uno de los n ítems).</li>\n",
    "<li>V3: vector con la cantidad de elementos disponibles de cada tipo de ítem (cada posición corresponde a cada uno de los n ítems).</li>\n",
    "<li>X: peso máximo que soporta la mochila a ser rellenada por ítems con el objetivo de maximizar el valor que contiene.</li>\n",
    "</ul>\n",
    "<br>\n",
    "<h3>OUTPUT</h3>\n",
    "Listado de elementos que se introducen en la mochila (en el orden en el que se introducen, índice del ítem, la longitud del vector es la cantidad de elementos que se introducen en la mochila) y el valor total de la mochila.\n",
    "</p>\n",
    "\n",
    "</div>"
   ]
  },
  {
   "cell_type": "code",
   "execution_count": 28,
   "metadata": {
    "collapsed": false
   },
   "outputs": [
    {
     "name": "stdout",
     "output_type": "stream",
     "text": [
      "[2, 1, 1, 1] 17\n",
      "---------------\n",
      "[1, 1, 1, 1, 1, 1, 1, 1] 32\n",
      "---------------\n"
     ]
    },
    {
     "data": {
      "text/plain": [
       "([1, 1, 1, 1, 1, 1, 1, 1], 32)"
      ]
     },
     "execution_count": 28,
     "metadata": {},
     "output_type": "execute_result"
    }
   ],
   "source": [
    "def RP(V1,V2,V3,X):\n",
    "    items=[]\n",
    "    valor=0\n",
    "            \n",
    "    cola = []\n",
    "    suma = 0\n",
    "    \n",
    "    for i in range(len(V1)): #calculo la suma del peso de todos los elementos de la mochila\n",
    "        for o in range(V3[i]):\n",
    "            suma += V1[i] \n",
    "    \n",
    "    if ((suma > X) and (min(V1) < X)): #si este peso maximo supera el de la mochila y el objeto mas pequeño cabe en esta\n",
    "        #tendremos que elejir que meter y entramos en el algoritmo\n",
    "        \n",
    "        #llenar cola de prioridades\n",
    "        for i in range(len(V1)):\n",
    "            v3 = V3[:] #esto es para hacer una copia de la lista, no una referencia y poder tratar con ella.\n",
    "            v3[i] = v3[i] -1\n",
    "            v1 = V1[:]\n",
    "            v2 = V2[:]\n",
    "            lista = [i]\n",
    "            cola.append([V1[i],V2[i],v1,v2,v3,lista])\n",
    "\n",
    "        #ramificación\n",
    "        while cola:\n",
    "            mediaMayor = cola[0][1] / cola[0][0]\n",
    "            indice = 0\n",
    "            for i in range(len(cola)): #Se busca el que tenga mejor relación valor/peso en la cola\n",
    "                if ((cola[i][1]/cola[i][0]) > mediaMayor):\n",
    "                    indice = i #y nos quedamos con su indice\n",
    "                    mediaMayor = (cola[i][1]/cola[i][0])\n",
    "\n",
    "            #print cola[i]\n",
    "            #print \"----------------\"\n",
    "            pesoA,valorA,v1,v2,v3, listaO = cola.pop(i) #sacamos de la lista los datos seleccionados\n",
    "            if ((min(v1)> (X-pesoA)) and (valorA > valor)):\n",
    "                #si el más pequeño de los items pesa más que el espacio que queda libre y el valor acomulado es mayor al\n",
    "                #anterior tenemos una nueva solución\n",
    "                items = listaO\n",
    "                valor = valorA\n",
    "                cola = poda(cola,mediaMayor)\n",
    "                #una vez se ha encontrado una solución se podan todos aquellos que tengan una relación valor/peso\n",
    "                #menor que esa solución.\n",
    "                print items, valor\n",
    "                print \"---------------\"\n",
    "            else:\n",
    "                for o in range(len(v3)):\n",
    "                    if ((v3[o] != 0) and ((pesoA + v1[o])<=X)): #Si el item cabe en la lista y hay items de ese tipo\n",
    "                        #añadimos esa ramificación a la cola de prioridad acomulando los datos de esta ramificación\n",
    "                        v1p = v1[:]\n",
    "                        v2p = v2[:]\n",
    "                        v3p = v3[:]\n",
    "                        v3p[o] = v3p[o] -1\n",
    "                        pesoAc = pesoA +v1p[o]\n",
    "                        valorAc = valorA + v2p[o]\n",
    "                        lista = listaO + [o]\n",
    "                        cola.append([pesoAc,valorAc,v1p,v2p,v3p,lista])\n",
    "    elif (min(V1) > X): #tambien esta el caso en el que la mochila sea demasiado pequeña para todos los objetos\n",
    "        items = \"ninguno\"\n",
    "        \n",
    "    else:  #en caso que la mochila sea suficientemente grande para todos los items,\n",
    "        #metemos todos los elementos en la mochila\n",
    "        items = \"todos\"\n",
    "        for i in range(len(V2)):\n",
    "            for o in range(V3[i]):\n",
    "                valor += V2[i]\n",
    "\n",
    "    return (items, valor)\n",
    "#poda\n",
    "def poda(cola, mediaMayor):\n",
    "    lista = []\n",
    "    for i in cola:\n",
    "        if ((i[1]/i[0]) >= mediaMayor):\n",
    "            lista.append(i)\n",
    "    \n",
    "    return lista\n",
    "    \n",
    "\n",
    "\n",
    "RP([5,2,10],[4,4,5],[10,10,30],16)"
   ]
  },
  {
   "cell_type": "markdown",
   "metadata": {},
   "source": [
    "<div class=\"alert alert-danger\" style=\"width:80%; margin:0 auto; padding\">\n",
    "<center><p><h3> Comentarios </h3></p> </center> \n",
    "\n",
    "</div>"
   ]
  },
  {
   "cell_type": "markdown",
   "metadata": {},
   "source": [
    "### En esta sección debéis responder a las preguntas siguientes:\n",
    "#### 1. Implementar un juego de test y justificar los resultados\n",
    "\n",
    "in: RP([5,2,10,20],[1,4,5,10],[10,3,5,2],1)\n",
    "out: ('ninguno', 0)\n",
    "\n",
    "En este caso los items son todos demasiado pesados para la mochila\n",
    "\n",
    "-----------------------------------\n",
    "\n",
    "in: RP([5,2,10,20],[1,4,5,10],[10,3,5,2],170)\n",
    "out: ('todos', 67)\n",
    "\n",
    "En este, la mochila es suficientemente grande para todos los items\n",
    "\n",
    "-----------------------------------\n",
    "\n",
    "in: RP([5,2,10,20],[1,4,5,10],[10,3,5,2],60)\n",
    "out: ([1, 3, 3, 2, 1, 0], 34)\n",
    "\n",
    "Encuentra un resultado casi instantaneo para vectores de longitud 4 y un peso mediano (60)\n",
    "\n",
    "-----------------------------------\n",
    "\n",
    "in: RP([5,2,10,20,7,3,4,9],[1,4,5,10,2,3,5,10],[10,3,5,2,2,3,5,6],60)\n",
    "out: ([1, 1, 7, 7, 7, 7, 6, 6, 6, 6, 6], 73)\n",
    "\n",
    "en vectores de longitud 8 tarda bastante más en encontrar un resultado para un peso de 60 debido a que existen muchas mas opciones al ramificar, pero el resultado es correcto.\n",
    "\n",
    "-----------------------------------\n",
    "\n",
    "in: RP([5,2,10],[4,4,5],[10,10,30],160)\n",
    "out: ([1,1,1,1,1,1,1,2,2,2,2,2,2,2,2,2,1,1,1,0,0,0,0,0,0,0,0,0,0],125)\n",
    "\n",
    "En este caso también tarda bastante porque aunque los vectores sean de longitud pequeña tiene que profundizar mucho más en la altura del arbol debido a la capacidad de la mochila para poder llenarlo.\n",
    "\n",
    "-----------------------------------\n",
    "\n",
    "En resumen: poco eficiente para mi gusto, se satura mucho en función del peso maximo de la mochila, la poda puede ayudar pero no hace maravillas, sigue teniendo problemas que no se si debería para un gran numero de objetos para rellenar un peso.\n",
    "\n",
    "Puntualizar que he supuesto que los valores y los pesos jamás serán 0 porque no existen objetos ni de valor nulo ni de peso nulo.\n",
    "\n",
    "#### 2. Análisis de complejidad de vuestra implementación\n",
    "\n",
    "la primera suma para saber el peso total de todos los items ya es V*V siendo V la longuitud del vector de los items, me ha parecido correcto añadir esto para que el programa no diese problemas en casos que no puede resolver.\n",
    "\n",
    "A continuación se llena la cola de prioridades, lo que tiene un coste de V\n",
    "\n",
    "Y luego se iterará sobre N (elementos de la cola de prioridad) haciendo dentro de esta iteración una busqueda de la mejor media (coste N), cada solución que encuentre hará una poda que tiene coste N, y la ramificación de la posivilidad encontrada será de coste V.\n",
    "\n",
    "en definitiva: V²+V+(N+V+N), por lo tanto: O(V²+N*(N+V))\n",
    "\n",
    "\n"
   ]
  },
  {
   "cell_type": "markdown",
   "metadata": {},
   "source": [
    "<div class=\"alert alert-info\">\n",
    "<center>\n",
    "  <h1>Entrega</h1>\n",
    "</center>\n",
    "<p>\n",
    "La entrega de esta práctica tiene como fecha límite el **domingo, 25 de diciembre de 2016 a las 23:55**. En el campus virtual deberéis subir este fichero con las funciones implementadas y las secciones de comentarios debidamente rellenadas.\n",
    "</p>\n",
    "\n",
    "<p>\n",
    "Este fichero es la parte 2/2 de la segunda entrega, correspondiente a algoritmos enumerativos: ramificación y poda.\n",
    "</p>\n",
    "\n",
    "<p>\n",
    "La entrega tiene que consistir en un solo fichero **.ipynb** con el nombre: AA\\_*Apellido1Apellido2*_*Nombre*_en1.ipyn\n",
    "</p>"
   ]
  }
 ],
 "metadata": {
  "kernelspec": {
   "display_name": "Python [Root]",
   "language": "python",
   "name": "Python [Root]"
  },
  "language_info": {
   "codemirror_mode": {
    "name": "ipython",
    "version": 2
   },
   "file_extension": ".py",
   "mimetype": "text/x-python",
   "name": "python",
   "nbconvert_exporter": "python",
   "pygments_lexer": "ipython2",
   "version": "2.7.12"
  }
 },
 "nbformat": 4,
 "nbformat_minor": 0
}
